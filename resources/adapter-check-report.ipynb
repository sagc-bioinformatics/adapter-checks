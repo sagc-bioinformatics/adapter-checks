{
 "cells": [
  {
   "cell_type": "markdown",
   "id": "a9c26443-69a7-4f27-ad47-4d17f6f6de99",
   "metadata": {},
   "source": [
    "# adapter-checks\n",
    "\n",
    "A notebook to debug adapter content."
   ]
  },
  {
   "cell_type": "code",
   "execution_count": null,
   "id": "910efa1a-befd-4bd2-9d37-c523d50ab8ef",
   "metadata": {},
   "outputs": [],
   "source": [
    "import matplotlib.pyplot as plt\n",
    "import pandas as pd\n",
    "from glob import glob\n",
    "import os"
   ]
  },
  {
   "cell_type": "code",
   "execution_count": null,
   "id": "24c739df-c608-40fb-9096-8f2899b862be",
   "metadata": {},
   "outputs": [],
   "source": [
    "def barplot(items, name):\n",
    "    \"\"\"\n",
    "    Plot average adapter content % per adapter sequence\n",
    "    \"\"\"\n",
    "    stats_list = []\n",
    "    for stats in items:\n",
    "        data = pd.read_csv(stats, sep='\\t', skiprows=3)\n",
    "        filename = stats.split('/')[-1]\n",
    "        data['sample'] = filename\n",
    "        stats_list.append(data)\n",
    "    \n",
    "    long_data = pd.concat(stats_list).reset_index()\n",
    "    long_data['ReadsPct'] = long_data.ReadsPct.str.slice(0,-1).astype(float)\n",
    "    \n",
    "    freq_list = long_data.groupby('#Name')['ReadsPct'].mean().sort_values(ascending=False)\n",
    "    \n",
    "    # The actual average frequency list\n",
    "    # Note that this SUMS to 1%\n",
    "    fig, ax = plt.subplots(figsize=(3,6))\n",
    "    freq_list[0:int(min(len(freq_list), 20))].iloc[::-1].plot.barh(ax=ax)\n",
    "    plt.title(f'Average adapter detected via bbduk ({name})')\n",
    "    plt.suptitle(f'Sum of below: {sum(freq_list):.03f}%')\n",
    "    plt.xlabel('% detected')\n",
    "    plt.ylabel('Adapter sequence')"
   ]
  },
  {
   "cell_type": "code",
   "execution_count": null,
   "id": "3c1ea3eb-4ffa-4a80-aa8e-b0314ba8a69e",
   "metadata": {},
   "outputs": [],
   "source": [
    "def heatmap(items, name):\n",
    "    \"\"\"\n",
    "    Plot a per-sample and per-adapter % heatmap\n",
    "    \"\"\"\n",
    "    stats_list = []\n",
    "    for stats in items:\n",
    "        data = pd.read_csv(stats, sep='\\t', skiprows=3)\n",
    "        filename = stats.split('/')[-1]\n",
    "        data['sample'] = filename\n",
    "        stats_list.append(data)\n",
    "\n",
    "    df = pd.DataFrame([ x.set_index(\"#Name\").ReadsPct.str.slice(0,-1).astype(float) for x in stats_list ])\n",
    "    df.index = [ x[\"sample\"][0].split('_')[0] for x in stats_list ]\n",
    "    # Save data\n",
    "    df.to_csv(name + \"_adapter_percent.csv\")\n",
    "    df = df.T\n",
    "    df = df[(df > 0.001).T.any()]\n",
    "    df = df.iloc[0:min(len(df), 30)]\n",
    "    \n",
    "    fig, ax = plt.subplots(figsize=(8,6))\n",
    "    img = ax.imshow(df, aspect='auto')\n",
    "    import numpy as np\n",
    "    ax.set_yticks(np.arange(len(df.index)), labels=df.index, fontsize=8)\n",
    "    ax.set_xticks(np.arange(len(df.columns)), labels=df.columns, fontsize=8)\n",
    "    \n",
    "    cbar = plt.colorbar(img)\n",
    "    cbar.ax.set_ylabel(\"Percentage of reads detected\")\n",
    "\n",
    "    plt.title(f'Average adapter detected via bbduk ({name})')\n",
    "    ax.tick_params(top=True, labeltop=True, bottom=False, labelbottom=False)\n",
    "    _ = plt.setp(ax.get_xticklabels(), rotation=270, ha=\"right\", va=\"center\",\n",
    "             rotation_mode=\"anchor\")\n"
   ]
  },
  {
   "cell_type": "code",
   "execution_count": null,
   "id": "5fbb33b3-9e3c-4f6c-b930-369ef0aeb237",
   "metadata": {},
   "outputs": [],
   "source": [
    "files = glob(\"*_stats.*.txt\")\n",
    "\n",
    "sorted_files = { k:[] for k in [ x.split('.')[-2] for x in files ] }\n",
    "for x in files:\n",
    "    name = x.split('.')[-2]\n",
    "    sorted_files[name].append(x)\n",
    "\n",
    "items = sorted(list(sorted_files.keys()))"
   ]
  },
  {
   "cell_type": "markdown",
   "id": "a212a6c4-f3d6-4c45-b7f6-327d8c75d0a4",
   "metadata": {},
   "source": [
    "## Average detected adapter percentages (real adapter sequences)\n",
    "\n",
    "This adapter reference consists of 'bbmap_adapters.fa' combined with detected adapters from bbmerge.\n",
    "Both parameter combinations are shown."
   ]
  },
  {
   "cell_type": "code",
   "execution_count": null,
   "id": "dc2639c6-59e9-4b6c-96ee-71f1f8968273",
   "metadata": {},
   "outputs": [],
   "source": [
    "adapters = [ x for x in items if x.startswith('adapters') ]\n",
    "barplot(sorted_files[adapters[0]], adapters[0])"
   ]
  },
  {
   "cell_type": "code",
   "execution_count": null,
   "id": "f344d2b9-df8d-4607-8537-037e49b3d868",
   "metadata": {},
   "outputs": [],
   "source": [
    "barplot(sorted_files[adapters[1]], adapters[1])"
   ]
  },
  {
   "cell_type": "markdown",
   "id": "7557e0be-2bf8-4f7f-9443-54b4146f193d",
   "metadata": {},
   "source": [
    "## Average detected adapter percentages (random adapter sequences)\n",
    "\n",
    "This adapter reference is completely randomly generated, with the same number of sequences as the first.\n",
    "Both parameter combinations are shown."
   ]
  },
  {
   "cell_type": "code",
   "execution_count": null,
   "id": "404db31a-fadc-4081-98db-09684710603e",
   "metadata": {},
   "outputs": [],
   "source": [
    "random = [ x for x in items if x.startswith('random') ]\n",
    "barplot(sorted_files[random[0]], random[0])"
   ]
  },
  {
   "cell_type": "code",
   "execution_count": null,
   "id": "27a8f14f-7221-4257-bc45-81151b13dc3b",
   "metadata": {},
   "outputs": [],
   "source": [
    "barplot(sorted_files[random[1]], random[1])"
   ]
  },
  {
   "cell_type": "markdown",
   "id": "aec474c7-89e4-4b5d-8b28-05c69cd99483",
   "metadata": {},
   "source": [
    "# Per-sample heatmaps\n",
    "\n",
    "Here we plot a heatmap containing each individual sample as well as the top adapters"
   ]
  },
  {
   "cell_type": "markdown",
   "id": "6717b48a-4de3-4a7c-bb43-984575e8a203",
   "metadata": {},
   "source": [
    "## Real adapter sequences heatmaps"
   ]
  },
  {
   "cell_type": "code",
   "execution_count": null,
   "id": "1b0d5bb8-2f6c-4a9c-9f1c-497c24bd7ae6",
   "metadata": {},
   "outputs": [],
   "source": [
    "adapters = [ x for x in items if x.startswith('adapters') ]\n",
    "heatmap(sorted_files[adapters[0]], adapters[0])"
   ]
  },
  {
   "cell_type": "code",
   "execution_count": null,
   "id": "0cb0a1d3-6d0d-4da9-ae78-c8cf0a0e543d",
   "metadata": {},
   "outputs": [],
   "source": [
    "heatmap(sorted_files[adapters[1]], adapters[1])"
   ]
  },
  {
   "cell_type": "markdown",
   "id": "95b5f6c4-89a1-43f4-b9fd-d08f9f5a2574",
   "metadata": {},
   "source": [
    "## Average detected adapter percentages (random adapter sequences)\n",
    "\n",
    "This adapter reference is completely randomly generated, with the same number of sequences as the first.\n",
    "Both parameter combinations are shown."
   ]
  },
  {
   "cell_type": "code",
   "execution_count": null,
   "id": "ed89954a-ce13-4454-9139-8884a0aa13b2",
   "metadata": {},
   "outputs": [],
   "source": [
    "random = [ x for x in items if x.startswith('random') ]\n",
    "heatmap(sorted_files[random[0]], random[0])"
   ]
  },
  {
   "cell_type": "code",
   "execution_count": null,
   "id": "aa16d079-2d14-478a-8f5d-dec84f99d56a",
   "metadata": {},
   "outputs": [],
   "source": [
    "heatmap(sorted_files[random[1]], random[1])"
   ]
  }
 ],
 "metadata": {
  "kernelspec": {
   "display_name": "Python 3 (ipykernel)",
   "language": "python",
   "name": "python3"
  },
  "language_info": {
   "codemirror_mode": {
    "name": "ipython",
    "version": 3
   },
   "file_extension": ".py",
   "mimetype": "text/x-python",
   "name": "python",
   "nbconvert_exporter": "python",
   "pygments_lexer": "ipython3",
   "version": "3.12.3"
  }
 },
 "nbformat": 4,
 "nbformat_minor": 5
}
